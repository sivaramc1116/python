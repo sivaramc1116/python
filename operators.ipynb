{
 "cells": [
  {
   "cell_type": "code",
   "execution_count": null,
   "metadata": {},
   "outputs": [],
   "source": [
    "**Arithmetic Operator"
   ]
  },
  {
   "cell_type": "code",
   "execution_count": 2,
   "metadata": {},
   "outputs": [
    {
     "name": "stdout",
     "output_type": "stream",
     "text": [
      "35\n",
      "-2\n",
      "176\n",
      "4.166666666666667\n",
      "5\n",
      "10\n",
      "17592186044416\n"
     ]
    }
   ],
   "source": [
    "#addition\n",
    "num1=10\n",
    "num2=25\n",
    "sum=num1+num2\n",
    "print(sum)\n",
    "#subtraction\n",
    "a=345\n",
    "b=347\n",
    "c=a-b\n",
    "print(c)\n",
    "#multiplication\n",
    "n1=11\n",
    "n2=16\n",
    "sv=n1*n2\n",
    "print(sv)\n",
    "#division\n",
    "n1=25\n",
    "n2=6\n",
    "print(n1/n2)\n",
    "#modulus division\n",
    "n1=455\n",
    "n2=45\n",
    "n3=n1%n2\n",
    "print(n3)\n",
    "#floor division\n",
    "siva=155\n",
    "var=15\n",
    "sivar=siva//var\n",
    "print(sivar)\n",
    "mk=16\n",
    "sv=11\n",
    "svr=mk**sv\n",
    "print(svr)\n"
   ]
  },
  {
   "cell_type": "markdown",
   "metadata": {},
   "source": [
    "Assignment Operator "
   ]
  },
  {
   "cell_type": "code",
   "execution_count": 3,
   "metadata": {},
   "outputs": [
    {
     "name": "stdout",
     "output_type": "stream",
     "text": [
      "5\n",
      "10\n",
      "20\n",
      "12\n",
      "1.6666666666666667\n",
      "1\n",
      "2\n",
      "125\n",
      "1\n",
      "7\n",
      "6\n",
      "40\n",
      "0\n"
     ]
    }
   ],
   "source": [
    "x=5\n",
    "print(x)#= asign a value\n",
    "#+=\n",
    "x=5\n",
    "x+=5\n",
    "print(x)\n",
    "#-=\n",
    "x=25\n",
    "x-=5\n",
    "print(x)\n",
    "#*=\n",
    "x=4\n",
    "x*=3\n",
    "print(x)\n",
    "#/=\n",
    "x=5\n",
    "x/=3\n",
    "print(x)\n",
    "#//=\n",
    "x=5\n",
    "x//=3\n",
    "print(x)\n",
    "#%=\n",
    "x=5\n",
    "x%=3\n",
    "print(x)\n",
    "#**=\n",
    "x=5\n",
    "x**=3\n",
    "print(x)\n",
    "#&=\n",
    "x=5\n",
    "x&=3\n",
    "print(x)\n",
    "#|=\n",
    "x=5\n",
    "x|=3\n",
    "print(x)\n",
    "#^=\n",
    "x=5\n",
    "x^=3\n",
    "print(x)\n",
    "#<<=\n",
    "x=5\n",
    "x<<=3\n",
    "print(x)\n",
    "#>>=\n",
    "x=5\n",
    "x>>=3\n",
    "print(x)\n"
   ]
  },
  {
   "cell_type": "markdown",
   "metadata": {},
   "source": [
    "Comparison Opetator"
   ]
  },
  {
   "cell_type": "code",
   "execution_count": 9,
   "metadata": {},
   "outputs": [
    {
     "name": "stdout",
     "output_type": "stream",
     "text": [
      "true\n",
      "true\n",
      "false\n",
      "true\n",
      "true\n",
      "true\n",
      "true\n",
      "false\n"
     ]
    }
   ],
   "source": [
    "#==\n",
    "x=10\n",
    "y=10\n",
    "if x==y:\n",
    "    print(\"true\")\n",
    "else:\n",
    "    print(\"false\")# both value same if condition is work otherwise else condition work\n",
    "#!=\n",
    "x=25\n",
    "y=34\n",
    "if x!=y:\n",
    "    print(\"true\")\n",
    "else:\n",
    "    print(\"false\")# both value  not same if condition is work otherwise else condition work\n",
    "x=35\n",
    "y=34\n",
    "if x<y:\n",
    "    print(\"true\")\n",
    "else:\n",
    "    print(\"false\")# x is lesser then if condition is work otherwise else condition work\n",
    "                  #<=\n",
    "x=100\n",
    "y=100\n",
    "if x<=y:\n",
    "    print(\"true\")\n",
    "else:\n",
    "    print(\"false\")# x and y value eual or lesserthen print if otherwise false\n",
    "x=100\n",
    "y=200\n",
    "if x<=y:\n",
    "    print(\"true\")\n",
    "else:\n",
    "    print(\"false\")# x and y value eual or lesserthen print if otherwise false\n",
    "#>=\n",
    "x=100\n",
    "y=100\n",
    "if x>=y:\n",
    "    print(\"true\")\n",
    "else:\n",
    "    print(\"false\")# x and y value eual or greaterthen print if otherwise false\n",
    "x=300\n",
    "y=200\n",
    "if x>=y:\n",
    "    print(\"true\")\n",
    "else:\n",
    "    print(\"false\")# x and y value eual or greaterthen print if otherwise false\n",
    "x=100\n",
    "y=200\n",
    "if x>=y:\n",
    "    print(\"true\")\n",
    "else:\n",
    "    print(\"false\")# x and y value eual or then pgreterrint if otherwise false\n",
    "\n",
    "\n",
    "\n",
    "\n",
    "   \n"
   ]
  },
  {
   "cell_type": "markdown",
   "metadata": {},
   "source": [
    "Logical Operator"
   ]
  },
  {
   "cell_type": "code",
   "execution_count": 10,
   "metadata": {},
   "outputs": [
    {
     "name": "stdout",
     "output_type": "stream",
     "text": [
      "true\n"
     ]
    }
   ],
   "source": [
    "#and\n",
    "a=10\n",
    "b=23\n",
    "if a==10 and b==23:\n",
    "    print(\"true\")\n",
    "else:\n",
    "    print(\"false\")# both condition true\n",
    "a=10\n",
    "b=20\n",
    "if a==10 and b==23:\n",
    "    print(\"true\")\n",
    "else:\n",
    "    print(\"false\")# one condition true one is false\n",
    "#or\n",
    "a=10\n",
    "b=20\n",
    "if a==10 or b==23:\n",
    "    print(\"true\")\n",
    "else:\n",
    "    print(\"false\")# one condition true\n",
    "a=20\n",
    "b=20 \n",
    "if a==10 or b==23:\n",
    "    print(\"true\")\n",
    "else:\n",
    "    print(\"false\")# both condition false \n",
    "#not\n",
    "\n"
   ]
  }
 ],
 "metadata": {
  "kernelspec": {
   "display_name": "Python 3.8.10 64-bit",
   "language": "python",
   "name": "python3"
  },
  "language_info": {
   "codemirror_mode": {
    "name": "ipython",
    "version": 3
   },
   "file_extension": ".py",
   "mimetype": "text/x-python",
   "name": "python",
   "nbconvert_exporter": "python",
   "pygments_lexer": "ipython3",
   "version": "3.8.10"
  },
  "orig_nbformat": 4,
  "vscode": {
   "interpreter": {
    "hash": "916dbcbb3f70747c44a77c7bcd40155683ae19c65e1c03b4aa3499c5328201f1"
   }
  }
 },
 "nbformat": 4,
 "nbformat_minor": 2
}
